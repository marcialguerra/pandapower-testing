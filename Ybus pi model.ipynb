{
 "cells": [
  {
   "cell_type": "markdown",
   "metadata": {},
   "source": [
    "# Import modules and load case"
   ]
  },
  {
   "cell_type": "code",
   "execution_count": 1,
   "metadata": {},
   "outputs": [],
   "source": [
    "import numpy as np\n",
    "import pandapower as pp\n",
    "import pandapower.networks as pn\n",
    "import pandapower.converter as pc\n",
    "\n",
    "#Load a case \n",
    "net = pn.create_cigre_network_lv()\n",
    "\n",
    "# CIGRE cases\n",
    "#net=pn.create_cigre_network_lv()  #Low voltage distribution network\n",
    "#net = pn.create_cigre_network_hv(length_km_6a_6b=0.1) #High voltage transmission network \n",
    "#net=pn.create_cigre_network_mv(with_der=\"False\")  #Medium voltage distribution network\n",
    "\n",
    "# Power system cases:\n",
    "#net = pp.networks.case4gs() \n",
    "#net = pp.networks.case5() \n",
    "#net = pp.networks.case14() \n",
    "#net = pp.networks.case14() \n",
    "\n"
   ]
  },
  {
   "cell_type": "markdown",
   "metadata": {},
   "source": [
    "# Ybus"
   ]
  },
  {
   "cell_type": "code",
   "execution_count": 5,
   "metadata": {
    "scrolled": true
   },
   "outputs": [],
   "source": [
    "ppc = pc.to_ppc(net)\n",
    "Ybus, Yf, Yt = pp.makeYbus_pypower(ppc[\"baseMVA\"], ppc[\"bus\"], ppc[\"branch\"])\n",
    "#print(Ybus.tocsr()/100) # Check against matpower result\n",
    "#np.savetxt('Ybus_LV.dat', Ybus.todense(), fmt='%1.10f') #save to a file"
   ]
  },
  {
   "cell_type": "code",
   "execution_count": null,
   "metadata": {},
   "outputs": [],
   "source": []
  }
 ],
 "metadata": {
  "kernelspec": {
   "display_name": "Python 3",
   "language": "python",
   "name": "python3"
  },
  "language_info": {
   "codemirror_mode": {
    "name": "ipython",
    "version": 3
   },
   "file_extension": ".py",
   "mimetype": "text/x-python",
   "name": "python",
   "nbconvert_exporter": "python",
   "pygments_lexer": "ipython3",
   "version": "3.6.8"
  }
 },
 "nbformat": 4,
 "nbformat_minor": 2
}
