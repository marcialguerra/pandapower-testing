{
 "cells": [
  {
   "cell_type": "markdown",
   "metadata": {},
   "source": [
    "# Importing all the good stuff"
   ]
  },
  {
   "cell_type": "code",
   "execution_count": 1,
   "metadata": {},
   "outputs": [],
   "source": [
    "import numpy as np\n",
    "import pandapower as pp\n",
    "import pandapower.networks as pn\n",
    "import pandapower.converter as pc\n",
    "\n",
    "net = pp.networks.case4gs() #Load a case "
   ]
  },
  {
   "cell_type": "markdown",
   "metadata": {},
   "source": [
    "# Ybus: Pi model with pandapower"
   ]
  },
  {
   "cell_type": "code",
   "execution_count": 2,
   "metadata": {},
   "outputs": [
    {
     "name": "stdout",
     "output_type": "stream",
     "text": [
      "  (0, 0)\t(8.98519043680334-44.835952184016705j)\n",
      "  (2, 0)\t(-5.169561621174524+25.847808105872623j)\n",
      "  (1, 0)\t(-3.815628815628816+19.07814407814408j)\n",
      "  (1, 1)\t(8.98519043680334-44.835952184016705j)\n",
      "  (0, 1)\t(-3.815628815628816+19.07814407814408j)\n",
      "  (3, 1)\t(-5.169561621174524+25.847808105872623j)\n",
      "  (2, 2)\t(8.193267475069058-40.86383737534529j)\n",
      "  (0, 2)\t(-5.169561621174524+25.847808105872623j)\n",
      "  (3, 2)\t(-3.023705853894534+15.118529269472667j)\n",
      "  (2, 3)\t(-3.023705853894534+15.118529269472667j)\n",
      "  (1, 3)\t(-5.169561621174524+25.847808105872623j)\n",
      "  (3, 3)\t(8.193267475069058-40.86383737534529j)\n"
     ]
    }
   ],
   "source": [
    "ppc = pc.to_ppc(net)\n",
    "Ybus, Yf, Yt = pp.makeYbus_pypower(ppc[\"baseMVA\"], ppc[\"bus\"], ppc[\"branch\"])\n",
    "print(Ybus/100)"
   ]
  },
  {
   "cell_type": "markdown",
   "metadata": {},
   "source": [
    "# Ybus: Simple model "
   ]
  },
  {
   "cell_type": "code",
   "execution_count": 3,
   "metadata": {},
   "outputs": [],
   "source": [
    "# Extract needed information to build Ybus matrix\n",
    "\n",
    "nbus = len(net.bus) # Number of buses in the system\n",
    "r = net.line[\"length_km\"]*net.line[\"r_ohm_per_km\"] # Total resistance of lines\n",
    "x = net.line[\"length_km\"]*net.line[\"x_ohm_per_km\"] # Total reactance of lines\n",
    "z = r.values+x.values*1j # Total resistance of lines\n",
    "from_buses = net.line[\"from_bus\"].values # \"From bus\" vector\n",
    "to_buses = net.line[\"to_bus\"].values  # \"To bus\" vector\n",
    "Zb=(135000**2)/(100*10**6)\n",
    "Zpu = z/Zb\n",
    "\n",
    "#\n",
    "# Calculating Yij and Yjj elements seperately\n",
    "#\n",
    "\n",
    "# From definition:  the off diagonal entries are the negatives of the admittance\n",
    "#                   of lines between buses i and j. If there is no line between i\n",
    "#                   and j this term is zero\n",
    "yij = 1/Zpu\n",
    "\n",
    "\n",
    "# From definition:  the diagonal entries of Y bus are found by summing the primitive \n",
    "#                   admittance of lines lines and ties to the reference at bus j.\n",
    "\n",
    "bus_connections = np.concatenate([from_buses, to_buses])\n",
    "y_connections = np.concatenate([yij,yij])\n",
    "yjj = np.zeros(nbus,dtype=np.complex_)\n",
    "for i in range(0,nbus):\n",
    "    yjj[i] = sum(y_connections[np.where((bus_connections == i))])\n",
    "\n",
    "Ybus = np.zeros((nbus,nbus),dtype=np.complex_)\n",
    "for i in range(0,nbus):\n",
    "    Ybus[from_buses[i]][to_buses[i]] = -yij[i]\n",
    "    Ybus[to_buses[i]][from_buses[i]] = -yij[i]\n",
    "    Ybus[i][i]                       = yjj[i]"
   ]
  },
  {
   "cell_type": "code",
   "execution_count": 4,
   "metadata": {},
   "outputs": [
    {
     "data": {
      "text/plain": [
       "array([[ 3.09555947-15.47779733j, -1.31455265 +6.57276325j,\n",
       "        -1.78100682 +8.90503408j,  0.         +0.j        ],\n",
       "       [-1.31455265 +6.57276325j,  3.09555947-15.47779733j,\n",
       "         0.         +0.j        , -1.78100682 +8.90503408j],\n",
       "       [-1.78100682 +8.90503408j,  0.         +0.j        ,\n",
       "         2.82272778-14.11363892j, -1.04172097 +5.20860484j],\n",
       "       [ 0.         +0.j        , -1.78100682 +8.90503408j,\n",
       "        -1.04172097 +5.20860484j,  2.82272778-14.11363892j]])"
      ]
     },
     "execution_count": 4,
     "metadata": {},
     "output_type": "execute_result"
    }
   ],
   "source": [
    "Ybus"
   ]
  },
  {
   "cell_type": "code",
   "execution_count": null,
   "metadata": {},
   "outputs": [],
   "source": []
  }
 ],
 "metadata": {
  "kernelspec": {
   "display_name": "Python 3",
   "language": "python",
   "name": "python3"
  },
  "language_info": {
   "codemirror_mode": {
    "name": "ipython",
    "version": 3
   },
   "file_extension": ".py",
   "mimetype": "text/x-python",
   "name": "python",
   "nbconvert_exporter": "python",
   "pygments_lexer": "ipython3",
   "version": "3.6.8"
  }
 },
 "nbformat": 4,
 "nbformat_minor": 2
}
